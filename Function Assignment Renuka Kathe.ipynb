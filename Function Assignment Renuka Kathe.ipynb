{
 "cells": [
  {
   "cell_type": "code",
   "execution_count": 1,
   "id": "47564540",
   "metadata": {},
   "outputs": [
    {
     "name": "stdout",
     "output_type": "stream",
     "text": [
      "hello caller\n",
      "hello caller\n",
      "hello caller\n"
     ]
    }
   ],
   "source": [
    "# Q1: Create a function and the functionality should be it should print “Hello caller”\n",
    "#Call this function multiple times\n",
    "def my_function():\n",
    "    print(\"hello caller\")\n",
    "    \n",
    "for i in range(3):\n",
    "    my_function()"
   ]
  },
  {
   "cell_type": "code",
   "execution_count": 2,
   "id": "483457d9",
   "metadata": {},
   "outputs": [
    {
     "name": "stdout",
     "output_type": "stream",
     "text": [
      "enter book name: RamLila\n",
      "I have RamLila book\n"
     ]
    }
   ],
   "source": [
    "#Q2: Create a function which accept one variable(parameter) and print its value\n",
    "name=input(\"enter book name: \")\n",
    "def my_book(book_name):\n",
    "    print(\"I have %s book\"%book_name)\n",
    "\n",
    "my_book(name)"
   ]
  },
  {
   "cell_type": "code",
   "execution_count": 3,
   "id": "966b05f2",
   "metadata": {},
   "outputs": [
    {
     "name": "stdout",
     "output_type": "stream",
     "text": [
      "enter number: 34\n",
      "its even number\n"
     ]
    }
   ],
   "source": [
    "#Q3: Create a function which accepts one variable and checks whether its even or odd\n",
    "input_number=int(input(\"enter number: \"))\n",
    "\n",
    "\n",
    "def evenodd(value):\n",
    "    reminder=value%2\n",
    "    if reminder == 0:\n",
    "        print(\"its even number\")\n",
    "    else:\n",
    "        print(\"its odd number\")  \n",
    "\n",
    "evenodd(input_number)\n",
    "\n"
   ]
  },
  {
   "cell_type": "code",
   "execution_count": 4,
   "id": "0ff9ed04",
   "metadata": {},
   "outputs": [],
   "source": [
    "#Q4: Create a function which accept two values and prints which one is larger value\n",
    "def comparison(value1,value2):\n",
    "    if value1>value2:\n",
    "        print(value1)\n",
    "    else:\n",
    "        print(value2)"
   ]
  },
  {
   "cell_type": "code",
   "execution_count": 5,
   "id": "f71cf155",
   "metadata": {},
   "outputs": [
    {
     "name": "stdout",
     "output_type": "stream",
     "text": [
      "enter value:1\n",
      "enter_2nd value:2\n",
      "2\n"
     ]
    }
   ],
   "source": [
    "user_input1=int(input(\"enter value:\" ))\n",
    "user_input2=int(input(\"enter_2nd value:\"))\n",
    "comparison(user_input1,user_input2)        \n"
   ]
  },
  {
   "cell_type": "code",
   "execution_count": 6,
   "id": "f6e62f11",
   "metadata": {},
   "outputs": [
    {
     "name": "stdout",
     "output_type": "stream",
     "text": [
      "enter value:5030\n",
      "enter_2nd value:3289\n",
      "3289\n"
     ]
    }
   ],
   "source": [
    "#Q5: Create a function which accept two values and prints which one is smaller value\n",
    "def comparison(value1,value2):\n",
    "    if value1<value2:\n",
    "        print(value1)\n",
    "    else:\n",
    "        print(value2)\n",
    "user_input1=int(input(\"enter value:\" ))\n",
    "user_input2=int(input(\"enter_2nd value:\"))\n",
    "comparison(user_input1,user_input2)        \n",
    "        "
   ]
  },
  {
   "cell_type": "code",
   "execution_count": 7,
   "id": "ccae5390",
   "metadata": {},
   "outputs": [
    {
     "name": "stdout",
     "output_type": "stream",
     "text": [
      "this is my family mother\n",
      "this is my family father\n",
      "this is my family sister\n",
      "this is my family brother\n"
     ]
    }
   ],
   "source": [
    "#Q6: Create a function which can accept any number of parameters\n",
    "def my_family(*members):\n",
    "    for i in range(len(members)):\n",
    "        print(\"this is my family \"+members[i])\n",
    "    \n",
    "my_family(\"mother\",\"father\",\"sister\",\"brother\")     "
   ]
  },
  {
   "cell_type": "code",
   "execution_count": 8,
   "id": "4da0d8f5",
   "metadata": {},
   "outputs": [
    {
     "name": "stdout",
     "output_type": "stream",
     "text": [
      "0 two state\n",
      "1 bhagvatgita\n",
      "2 half girlfriend\n"
     ]
    }
   ],
   "source": [
    "#Q7: Create a function which will accept a list and functionality of the function should be it should iterate over the list and\n",
    "#print all the elements with there respective indexes\n",
    "books=(\"two state\",\"bhagvatgita\",\"half girlfriend\")\n",
    "\n",
    "def my_books(b):\n",
    "    for x in range(len(b)):\n",
    "        value=b[x]\n",
    "        index=x\n",
    "        print(index,value)\n",
    "        \n",
    "my_books(books)    "
   ]
  },
  {
   "cell_type": "code",
   "execution_count": 9,
   "id": "c5b2bb0b",
   "metadata": {},
   "outputs": [
    {
     "name": "stdout",
     "output_type": "stream",
     "text": [
      "this is my city  pune\n",
      "this is my city  nashik\n"
     ]
    }
   ],
   "source": [
    "#Q8: Create a function which will have default parameters and doesn’t give error when we don’t pass the parameters\n",
    "def my_city(city=\"nashik\"):\n",
    "    print(\"this is my city \",city)\n",
    "    \n",
    "my_city(\"pune\")#with passing parameter\n",
    "my_city()#without passing parameter"
   ]
  },
  {
   "cell_type": "code",
   "execution_count": 10,
   "id": "7ae12f47",
   "metadata": {},
   "outputs": [
    {
     "name": "stdout",
     "output_type": "stream",
     "text": [
      "500\n"
     ]
    }
   ],
   "source": [
    "#Q9: Create a function which can find the largest item inside the list\n",
    "value=(100,90,70,500,80)\n",
    "\n",
    "def Largestvalue(v):\n",
    "    print(max(v))\n",
    "    \n",
    "Largestvalue(value)"
   ]
  },
  {
   "cell_type": "code",
   "execution_count": 11,
   "id": "d6bca69b",
   "metadata": {},
   "outputs": [
    {
     "name": "stdout",
     "output_type": "stream",
     "text": [
      "55 is odd\n",
      "56 is even\n",
      "57 is odd\n",
      "58 is even\n",
      "59 is odd\n",
      "60 is even\n",
      "61 is odd\n",
      "62 is even\n"
     ]
    }
   ],
   "source": [
    "#Q10: Create a function which a print all even and odd number over a specified range\n",
    "def evenodd(rangestart,rangeend):\n",
    "    for x in range(rangestart,rangeend):\n",
    "        count = x % 2\n",
    "        if count == 0:\n",
    "            print (\"%d is even\"%x)\n",
    "        else:\n",
    "            print (\"%d is odd\"%x)\n",
    "            \n",
    "evenodd(55,63)"
   ]
  },
  {
   "cell_type": "code",
   "execution_count": null,
   "id": "121e5e7a",
   "metadata": {},
   "outputs": [],
   "source": []
  }
 ],
 "metadata": {
  "kernelspec": {
   "display_name": "Python 3 (ipykernel)",
   "language": "python",
   "name": "python3"
  },
  "language_info": {
   "codemirror_mode": {
    "name": "ipython",
    "version": 3
   },
   "file_extension": ".py",
   "mimetype": "text/x-python",
   "name": "python",
   "nbconvert_exporter": "python",
   "pygments_lexer": "ipython3",
   "version": "3.9.12"
  }
 },
 "nbformat": 4,
 "nbformat_minor": 5
}
